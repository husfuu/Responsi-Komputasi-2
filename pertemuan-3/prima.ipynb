{
 "cells": [
  {
   "cell_type": "markdown",
   "source": [
    "Diberikan sebuah list dengan value [1, 2, 3, 4, 5, 6, 7, 8, 9, 10]. Bilangan prima aapa saja yang terdapat dalam list tersebut?"
   ],
   "metadata": {}
  },
  {
   "cell_type": "code",
   "execution_count": null,
   "source": [
    "list = [1, 2, 3, 4, 5, 6, 7, 8, 9, 10]\n",
    "inilist = [x for x in range(40,60)]"
   ],
   "outputs": [],
   "metadata": {}
  },
  {
   "cell_type": "code",
   "execution_count": null,
   "source": [
    "def isPrime(number):\n",
    "  if number > 1:\n",
    "    for x in range(2,number):\n",
    "\n",
    "      print(number, '%', x, '=', number % x)\n",
    "\n",
    "      if(number % x == 0):\n",
    "        return False\n",
    "  \n",
    "    return True\n"
   ],
   "outputs": [],
   "metadata": {}
  },
  {
   "cell_type": "code",
   "execution_count": null,
   "source": [
    "isPrime(7)"
   ],
   "outputs": [],
   "metadata": {}
  },
  {
   "cell_type": "code",
   "execution_count": null,
   "source": [
    "def primeList(list):\n",
    "\n",
    "  prime_list = []\n",
    "  not_prime = []\n",
    "\n",
    "  for number in list:\n",
    "\n",
    "    #Mengecek apakah bilangan prima\n",
    "    if( isPrime(number) ):\n",
    "\n",
    "      prime_list.append(number)\n",
    "\n",
    "    else:\n",
    "\n",
    "      not_prime.append(number)\n",
    "\n",
    "\n",
    "    print('')\n",
    "    \n",
    "  return {\n",
    "      'prime_list' :prime_list,\n",
    "      'not_prime' : not_prime\n",
    "  }"
   ],
   "outputs": [],
   "metadata": {}
  },
  {
   "cell_type": "code",
   "execution_count": null,
   "source": [
    "primeList(list)"
   ],
   "outputs": [],
   "metadata": {}
  }
 ],
 "metadata": {
  "orig_nbformat": 4,
  "language_info": {
   "name": "python"
  }
 },
 "nbformat": 4,
 "nbformat_minor": 2
}